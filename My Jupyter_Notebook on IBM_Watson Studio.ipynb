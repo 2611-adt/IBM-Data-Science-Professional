{
 "cells": [
  {
   "cell_type": "markdown",
   "id": "65fb6da6-bb60-480a-aa8d-22ef37c0ed6c",
   "metadata": {},
   "source": [
    "# My Jupyter_Notebook on IBM Watson Studio"
   ]
  },
  {
   "cell_type": "markdown",
   "id": "7c20db09-e73a-41cd-805c-e19e2aa538c3",
   "metadata": {},
   "source": [
    "**Aditi Tambat**"
   ]
  },
  {
   "cell_type": "markdown",
   "id": "7cfbef65-e842-4be2-95bc-5c57d81879e8",
   "metadata": {},
   "source": [
    "**Data Science Student**"
   ]
  },
  {
   "cell_type": "markdown",
   "id": "1890df4b-a580-4084-890d-dfb0c44cd6f2",
   "metadata": {},
   "source": [
    "*I am interested in Data Science because I love to gain insights from data.*"
   ]
  },
  {
   "cell_type": "markdown",
   "id": "7acbb7af-fb9b-4328-8357-77f303c93161",
   "metadata": {},
   "source": [
    "### The following code tell about my favourite color"
   ]
  },
  {
   "cell_type": "code",
   "execution_count": 1,
   "id": "636c3223-f860-481c-bc57-735a208588b3",
   "metadata": {},
   "outputs": [
    {
     "name": "stdout",
     "output_type": "stream",
     "text": [
      "This is my favorite color\n"
     ]
    }
   ],
   "source": [
    "color = \"Blue\"\n",
    "\n",
    "if color == \"Blue\":\n",
    "    print(\"This is my favorite color\")"
   ]
  },
  {
   "cell_type": "markdown",
   "id": "1d2069f2-1e4f-48ee-8ad6-77cf25b77554",
   "metadata": {},
   "source": [
    "***\\n1. AI- ML/DL\\n2. Cloud\\n3. Data Analytics\\n4. IoT\\n***"
   ]
  },
  {
   "cell_type": "code",
   "execution_count": null,
   "id": "b7005826-7af6-4ab5-abf4-0a6218463538",
   "metadata": {},
   "outputs": [],
   "source": []
  }
 ],
 "metadata": {
  "kernelspec": {
   "display_name": "Python",
   "language": "python",
   "name": "conda-env-python-py"
  },
  "language_info": {
   "codemirror_mode": {
    "name": "ipython",
    "version": 3
   },
   "file_extension": ".py",
   "mimetype": "text/x-python",
   "name": "python",
   "nbconvert_exporter": "python",
   "pygments_lexer": "ipython3",
   "version": "3.7.12"
  }
 },
 "nbformat": 4,
 "nbformat_minor": 5
}
